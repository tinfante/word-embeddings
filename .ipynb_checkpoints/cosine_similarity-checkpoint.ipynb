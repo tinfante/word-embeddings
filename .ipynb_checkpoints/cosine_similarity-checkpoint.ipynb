{
 "cells": [
  {
   "cell_type": "code",
   "execution_count": 1,
   "metadata": {},
   "outputs": [],
   "source": [
    "import spacy\n",
    "\n",
    "nlp = spacy.load('es_core_news_md')\n",
    "\n",
    "economia = [\n",
    "    \"Las cicatrices de la crisis: ocho autonomías aún no han recuperado el nivel de PIB de 2008\",\n",
    "    \"El Gobierno quiere usar la media anual de la inflación para actualizar las pensiones\",\n",
    "    \"Los centros especiales de trabajo dicen que la subida del salario mínimo pone en riesgo su viabilidad\"\n",
    "]\n",
    "\n",
    "deportes = [\n",
    "    \"El Atlético gana con más identidad que fútbol\",\n",
    "    \"Mundial de Clubes 2018: horario y dónde ver la final\",\n",
    "    \"El partido en el que más disfrutan los árbitros ¡Lo nunca visto!\"    \n",
    "]"
   ]
  },
  {
   "cell_type": "code",
   "execution_count": 3,
   "metadata": {},
   "outputs": [],
   "source": [
    "E = sum([nlp(x).vector for x in economia])/len(economia)\n",
    "D = sum([nlp(x).vector for x in deportes])/len(deportes)"
   ]
  },
  {
   "cell_type": "code",
   "execution_count": 17,
   "metadata": {},
   "outputs": [
    {
     "name": "stdout",
     "output_type": "stream",
     "text": [
      "0.9695262312889099\n",
      "0.940466582775116\n",
      "\n",
      "0.9810311794281006\n",
      "0.9613872170448303\n",
      "\n",
      "0.9482566714286804\n",
      "0.9653895497322083\n"
     ]
    }
   ],
   "source": [
    "from scipy.spatial.distance import cosine\n",
    "\n",
    "Q1 = nlp(\"La agencia tributaria de México despide a cientos de funcionarios por los recortes\").vector\n",
    "print(1 - cosine(E, Q1))\n",
    "print(1 - cosine(D, Q1))\n",
    "\n",
    "Q2 = nlp(\"El Gobierno baraja si revisa las pensiones con el IPC de noviembre\").vector\n",
    "print()\n",
    "print(1 - cosine(E, Q2))\n",
    "print(1 - cosine(D, Q2))\n",
    "\n",
    "Q3 = nlp(\"El Real Madrid gana al Espanyol con un gol de penalti de Griezmann \").vector\n",
    "print()\n",
    "print(1 - cosine(E, Q3))\n",
    "print(1 - cosine(D, Q3))"
   ]
  },
  {
   "cell_type": "code",
   "execution_count": 18,
   "metadata": {},
   "outputs": [],
   "source": [
    "def only_nouns_vector(document):\n",
    "    doc = [t.vector for t in nlp(document) if t.pos_ == 'NOUN' and t.has_vector]\n",
    "    vec = sum(doc)/len(doc)\n",
    "    return vec\n",
    "\n",
    "e = sum([only_nouns_vector(x) for x in economia])/len(economia)\n",
    "d = sum([only_nouns_vector(x) for x in deportes])/len(deportes)"
   ]
  },
  {
   "cell_type": "code",
   "execution_count": 20,
   "metadata": {},
   "outputs": [
    {
     "name": "stdout",
     "output_type": "stream",
     "text": [
      "0.8098477125167847\n",
      "0.659321665763855\n",
      "\n",
      "0.8624058961868286\n",
      "0.7089205980300903\n",
      "\n",
      "0.432923823595047\n",
      "0.6780325770378113\n"
     ]
    }
   ],
   "source": [
    "q1 = only_nouns_vector(\"La agencia tributaria de México despide a cientos de funcionarios por los recortes\")\n",
    "print(1 - cosine(e, q1))\n",
    "print(1 - cosine(d, q1))\n",
    "\n",
    "q2 = only_nouns_vector(\"El Gobierno baraja si revisa las pensiones con el IPC de noviembre\")\n",
    "print()\n",
    "print(1 - cosine(e, q2))\n",
    "print(1 - cosine(d, q2))\n",
    "\n",
    "q3 = only_nouns_vector(\"El Real Madrid gana al Espanyol con un gol de penalti de Griezmann \")\n",
    "print()\n",
    "print(1 - cosine(e, q3))\n",
    "print(1 - cosine(d, q3))"
   ]
  }
 ],
 "metadata": {
  "kernelspec": {
   "display_name": "Python 3",
   "language": "python",
   "name": "python3"
  },
  "language_info": {
   "codemirror_mode": {
    "name": "ipython",
    "version": 3
   },
   "file_extension": ".py",
   "mimetype": "text/x-python",
   "name": "python",
   "nbconvert_exporter": "python",
   "pygments_lexer": "ipython3",
   "version": "3.6.7"
  }
 },
 "nbformat": 4,
 "nbformat_minor": 2
}
