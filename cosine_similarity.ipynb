{
 "cells": [
  {
   "cell_type": "code",
   "execution_count": 1,
   "metadata": {},
   "outputs": [],
   "source": [
    "import spacy\n",
    "\n",
    "nlp = spacy.load('es_core_news_md')\n",
    "\n",
    "economia = [\n",
    "    \"Las cicatrices de la crisis: ocho autonomías aún no han recuperado el nivel de PIB de 2008\",\n",
    "    \"El Gobierno quiere usar la media anual de la inflación para actualizar las pensiones\",\n",
    "    \"Los centros especiales de trabajo dicen que la subida del salario mínimo pone en riesgo su viabilidad\",\n",
    "    \"Mercadona amplía a siete semanas el permiso de paternidad de sus empleados\"\n",
    "]\n",
    "\n",
    "deportes = [\n",
    "    \"El Atlético gana con más identidad que fútbol\",\n",
    "    \"Mundial de Clubes 2018: horario y dónde ver la final\",\n",
    "    \"El partido en el que más disfrutan los árbitros ¡Lo nunca visto!\"    \n",
    "]"
   ]
  },
  {
   "cell_type": "code",
   "execution_count": 2,
   "metadata": {},
   "outputs": [],
   "source": [
    "E = sum([nlp(x).vector for x in economia])/len(economia)\n",
    "D = sum([nlp(x).vector for x in deportes])/len(deportes)"
   ]
  },
  {
   "cell_type": "code",
   "execution_count": 3,
   "metadata": {},
   "outputs": [
    {
     "name": "stdout",
     "output_type": "stream",
     "text": [
      "0.9717845916748047\n",
      "0.940466582775116\n",
      "\n",
      "0.9813520312309265\n",
      "0.9613872170448303\n",
      "\n",
      "0.9271283745765686\n",
      "0.9414774775505066\n",
      "\n",
      "0.9504123330116272\n",
      "0.9653895497322083\n",
      "\n",
      "0.9317857027053833\n",
      "0.9754965305328369\n"
     ]
    }
   ],
   "source": [
    "from scipy.spatial.distance import cosine\n",
    "\n",
    "Q1 = nlp(\"La agencia tributaria de México despide a cientos de funcionarios por los recortes\").vector\n",
    "print(1 - cosine(E, Q1))\n",
    "print(1 - cosine(D, Q1))\n",
    "\n",
    "Q2 = nlp(\"El Gobierno baraja si revisa las pensiones con el IPC de noviembre\").vector\n",
    "print()\n",
    "print(1 - cosine(E, Q2))\n",
    "print(1 - cosine(D, Q2))\n",
    "\n",
    "Q3 = nlp(\"Wall Street cierra su peor semana en una década\").vector\n",
    "print()\n",
    "print(1 - cosine(E, Q3))\n",
    "print(1 - cosine(D, Q3))\n",
    "\n",
    "Q4 = nlp(\"El Real Madrid gana al Espanyol con un gol de penalti de Griezmann\").vector\n",
    "print()\n",
    "print(1 - cosine(E, Q4))\n",
    "print(1 - cosine(D, Q4))\n",
    "\n",
    "Q5= nlp(\"¿En el fútbol masculino no hay gais?\").vector\n",
    "print()\n",
    "print(1 - cosine(E, Q5))\n",
    "print(1 - cosine(D, Q5))"
   ]
  },
  {
   "cell_type": "code",
   "execution_count": 4,
   "metadata": {},
   "outputs": [],
   "source": [
    "def only_nouns_vector(document):\n",
    "    doc = [t.vector for t in nlp(document) if t.pos_ == 'NOUN' and t.has_vector]\n",
    "    vec = sum(doc)/len(doc)\n",
    "    return vec\n",
    "\n",
    "e = sum([only_nouns_vector(x) for x in economia])/len(economia)\n",
    "d = sum([only_nouns_vector(x) for x in deportes])/len(deportes)"
   ]
  },
  {
   "cell_type": "code",
   "execution_count": 5,
   "metadata": {},
   "outputs": [
    {
     "name": "stdout",
     "output_type": "stream",
     "text": [
      "0.8338229060173035\n",
      "0.659321665763855\n",
      "\n",
      "0.8835755586624146\n",
      "0.7089205980300903\n",
      "\n",
      "0.8222185373306274\n",
      "0.811431884765625\n",
      "\n",
      "0.45408767461776733\n",
      "0.6780325770378113\n",
      "\n",
      "0.5404952168464661\n",
      "0.8032517433166504\n"
     ]
    }
   ],
   "source": [
    "q1 = only_nouns_vector(\"La agencia tributaria de México despide a cientos de funcionarios por los recortes\")\n",
    "print(1 - cosine(e, q1))\n",
    "print(1 - cosine(d, q1))\n",
    "\n",
    "q2 = only_nouns_vector(\"El Gobierno baraja si revisa las pensiones con el IPC de noviembre\")\n",
    "print()\n",
    "print(1 - cosine(e, q2))\n",
    "print(1 - cosine(d, q2))\n",
    "\n",
    "q3 = only_nouns_vector(\"Wall Street cierra su peor semana en una década\")\n",
    "print()\n",
    "print(1 - cosine(e, q3))\n",
    "print(1 - cosine(d, q3))\n",
    "\n",
    "q4 = only_nouns_vector(\"El Real Madrid gana al Espanyol con un gol de penalti de Griezmann\")\n",
    "print()\n",
    "print(1 - cosine(e, q4))\n",
    "print(1 - cosine(d, q4))\n",
    "\n",
    "\n",
    "q5 = only_nouns_vector(\"¿En el fútbol masculino no hay gais?\")\n",
    "print()\n",
    "print(1 - cosine(e, q5))\n",
    "print(1 - cosine(d, q5))"
   ]
  }
 ],
 "metadata": {
  "kernelspec": {
   "display_name": "Python 3",
   "language": "python",
   "name": "python3"
  },
  "language_info": {
   "codemirror_mode": {
    "name": "ipython",
    "version": 3
   },
   "file_extension": ".py",
   "mimetype": "text/x-python",
   "name": "python",
   "nbconvert_exporter": "python",
   "pygments_lexer": "ipython3",
   "version": "3.6.7"
  }
 },
 "nbformat": 4,
 "nbformat_minor": 2
}
